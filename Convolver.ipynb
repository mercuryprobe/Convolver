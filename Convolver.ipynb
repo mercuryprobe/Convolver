{
 "cells": [
  {
   "attachments": {},
   "cell_type": "markdown",
   "metadata": {},
   "source": [
    "##### Welcome"
   ]
  },
  {
   "cell_type": "code",
   "execution_count": 97,
   "metadata": {},
   "outputs": [
    {
     "name": "stdout",
     "output_type": "stream",
     "text": [
      "----------------------------------------\n",
      "Welcome to the image convolver thing!\n",
      "Please ensure that the image is present in the same directory as this program, and that the following dependencies are installed:\n",
      "\t- NumPy\n",
      "\t- Pillow\n",
      "\t- PyTorch\n",
      "\t- MatPlotLib\n",
      "\n"
     ]
    }
   ],
   "source": [
    "print(\"-\"*40)\n",
    "print(\"Welcome to the image convolver thing!\\nPlease ensure that the image is present in the same directory as this program, and that the following dependencies are installed:\\n\\t- NumPy\\n\\t- Pillow\\n\\t- PyTorch\\n\\t- MatPlotLib\\n\")"
   ]
  },
  {
   "attachments": {},
   "cell_type": "markdown",
   "metadata": {},
   "source": [
    "##### Import Packages"
   ]
  },
  {
   "cell_type": "code",
   "execution_count": 98,
   "metadata": {},
   "outputs": [
    {
     "name": "stdout",
     "output_type": "stream",
     "text": [
      "Checking dependencies...\n",
      "Dependency checks complete.\n"
     ]
    }
   ],
   "source": [
    "print(\"Checking dependencies...\")\n",
    "pos = 0\n",
    "dependency_list = [\"Pillow\", \"NumPy\", \"PyTorch\", \"MatPlotLib\"]\n",
    "try:\n",
    "    from PIL import Image\n",
    "    pos +=1\n",
    "    import numpy as np\n",
    "    pos +=1\n",
    "    import torch\n",
    "    from torch import nn\n",
    "    pos +=1\n",
    "    import matplotlib.pyplot as plt\n",
    "    pos +=1\n",
    "    import sys\n",
    "    import math\n",
    "except:\n",
    "    sys.exit(f\"Dependency error for {dependency_list[pos]}\")\n",
    "\n",
    "print(\"Dependency checks complete.\")"
   ]
  },
  {
   "cell_type": "code",
   "execution_count": 99,
   "metadata": {},
   "outputs": [
    {
     "data": {
      "text/plain": [
       "'\\nGoals:\\n1. mean blur ✓\\n2. gaussian blur ✓\\n3. bokeh filter\\n3. edge detection: sobel + canny\\n4. foreground/background blur and detection\\n'"
      ]
     },
     "execution_count": 99,
     "metadata": {},
     "output_type": "execute_result"
    }
   ],
   "source": [
    "debug_mode = 2\n",
    "\n",
    "if (debug_mode==1):\n",
    "    image_name = \"testfile.jpg\"\n",
    "elif (debug_mode==2):\n",
    "    image_name = \"city.png\"\n",
    "else:\n",
    "    image_name = input(\"Enter the name of the file (including the file extension, e.g. example.png): \")\n",
    "\n",
    "'''\n",
    "Goals:\n",
    "1. mean blur ✓\n",
    "2. gaussian blur ✓\n",
    "3. test filter ✓\n",
    "3. edge detection: sobel + canny\n",
    "4. foreground/background blur and detection\n",
    "'''"
   ]
  },
  {
   "attachments": {},
   "cell_type": "markdown",
   "metadata": {},
   "source": [
    "##### Open image"
   ]
  },
  {
   "cell_type": "code",
   "execution_count": 100,
   "metadata": {},
   "outputs": [
    {
     "name": "stdout",
     "output_type": "stream",
     "text": [
      "(2160, 3840, 4)\n"
     ]
    }
   ],
   "source": [
    "image_file = Image.open(f\"./{image_name}\")\n",
    "image_array = np.asarray(image_file)\n",
    "print(image_array.shape)\n",
    "# i = Image.fromarray(image_array)\n",
    "# i.save(\"copy.jpg\")"
   ]
  },
  {
   "attachments": {},
   "cell_type": "markdown",
   "metadata": {},
   "source": [
    "##### Define Cross Correlation, i.e. Convolution function"
   ]
  },
  {
   "cell_type": "code",
   "execution_count": 101,
   "metadata": {},
   "outputs": [],
   "source": [
    "def corr2d(X, K):\n",
    "    \"\"\"\n",
    "    Compute single channel 2D cross-correlation.\n",
    "    X: Input array, i.e. channel\n",
    "    K: Kernel\n",
    "    Y: Output array, i.e. feature map\n",
    "    Credit: Dive into Deep Learning, A. Zhang et al\n",
    "    \"\"\"\n",
    "\n",
    "    h, w = K.shape\n",
    "    Y = torch.zeros((X.shape[0] - h + 1, X.shape[1] - w + 1))\n",
    "    count = 0\n",
    "    total_count=Y.shape[0]*Y.shape[1]\n",
    "    for i in range(Y.shape[0]):\n",
    "        for j in range(Y.shape[1]):\n",
    "            count += 1\n",
    "            sys.stdout.write('\\r')\n",
    "            sys.stdout.write(\"%d%\" % (count/total_count,))\n",
    "            sys.stdout.flush()\n",
    "            Y[i, j] = (X[i:i + h, j:j + w] * K).sum()\n",
    "    \n",
    "    return Y"
   ]
  },
  {
   "cell_type": "code",
   "execution_count": 102,
   "metadata": {},
   "outputs": [],
   "source": [
    "def corr2d_separable(X, k):\n",
    "    '''\n",
    "    Compute single channel 2D cross-correlation, but significantly faster by using separable kernels.\n",
    "    Performs two linear passes with the kernel vector, one with the linear kernel, followed by one with its transpose.\n",
    "    X: Input array, i.e. channel\n",
    "    k: Kernel vector\n",
    "    Y: Output array, i.e. feature map\n",
    "    '''\n",
    "    k = k.reshape(-1,1)\n",
    "    first_pass_featuremap = corr2d(X,k)\n",
    "    Y = corr2d(first_pass_featuremap,k.T)\n",
    "    \n",
    "    return second_pass_featuremap  "
   ]
  },
  {
   "cell_type": "code",
   "execution_count": 103,
   "metadata": {},
   "outputs": [],
   "source": [
    "def corr2d_separable_multichannel(X, k):\n",
    "    '''\n",
    "    Compute multichannel channel 2D cross-correlation using separable kernels.\n",
    "    X: Input array, i.e. channels\n",
    "    k: Kernel vector\n",
    "    Y: Output array, i.e. feature map\n",
    "    '''\n",
    "    # Future: Implement true multichannel support, where num_channels is an input\n",
    "    R = X[:,:,0]\n",
    "    G = X[:,:,1]\n",
    "    B = X[:,:,2]\n",
    "    k = k.reshape(-1,1)\n",
    "    \n",
    "    print(\"Performing convolution on R Channel\")\n",
    "    first_pass_featuremap_R = corr2d(R,k)\n",
    "    R_featuremap = corr2d(first_pass_featuremap_R,k.T)\n",
    "\n",
    "    print(\"Performing convolution on G Channel\")\n",
    "    first_pass_featuremap_G = corr2d(G,k)\n",
    "    G_featuremap = corr2d(first_pass_featuremap_G,k.T)\n",
    "\n",
    "    print(\"Performing convolution on B Channel\")\n",
    "    first_pass_featuremap_B = corr2d(B,k)\n",
    "    B_featuremap = corr2d(first_pass_featuremap_B,k.T)\n",
    "\n",
    "    print(\"Convolutions complete!\")\n",
    "    \n",
    "    Y = np.empty(R_featuremap.shape + (3,))\n",
    "    Y[:,:,0] = R_featuremap\n",
    "    Y[:,:,1] = G_featuremap\n",
    "    Y[:,:,2] = B_featuremap\n",
    "    return Y "
   ]
  },
  {
   "attachments": {},
   "cell_type": "markdown",
   "metadata": {},
   "source": [
    "##### Define filters"
   ]
  },
  {
   "cell_type": "code",
   "execution_count": 104,
   "metadata": {},
   "outputs": [],
   "source": [
    "def mean_blur(image_array, kernel_size=3, save=False):\n",
    "    '''\n",
    "    Implements mean blur. \n",
    "    Essentially, each new pixel is just the mean of the color values \n",
    "    '''\n",
    "\n",
    "    kernel = np.ones(kernel_size)\n",
    "    \n",
    "    featuremap = corr2d_separable_multichannel(image_array, kernel)\n",
    "    featuremap = featuremap/(kernel_size**2)\n",
    "    print(f\"Featuremap of shape {featuremap.shape} generated!\")\n",
    "\n",
    "    return featuremap"
   ]
  },
  {
   "cell_type": "code",
   "execution_count": 105,
   "metadata": {},
   "outputs": [],
   "source": [
    "def show_image(featuremap, save=False, suffix=\"modified\"):\n",
    "    featuremap *= 255.0/featuremap.max()\n",
    "    cur_image = Image.fromarray(featuremap.astype(np.uint8)) #future note: PIL will accept <np.uint8> but not just <int>\n",
    "    cur_image.show()\n",
    "    \n",
    "    if (save):\n",
    "        new_filename = image_name.split(\".\")[0] + \"_\" + suffix\n",
    "        cur_image.save(f\"{new_filename}.png\")\n",
    "        print(f\"{new_filename}.png saved!\")\n",
    "    return"
   ]
  },
  {
   "cell_type": "code",
   "execution_count": 106,
   "metadata": {},
   "outputs": [],
   "source": [
    "def normal_value(x, std):\n",
    "    f = (1/math.sqrt(2*math.pi))*np.exp(-0.5*((x/std)**2))\n",
    "    return f"
   ]
  },
  {
   "cell_type": "code",
   "execution_count": 107,
   "metadata": {},
   "outputs": [],
   "source": [
    "def generate_kernel_gaussian_separable(kernel_size=10):\n",
    "    if (kernel_size==1):\n",
    "        return np.array([1])\n",
    "    elif (kernel_size==2):\n",
    "        return np.array([1,1])\n",
    "\n",
    "    std = kernel_size\n",
    "    if (kernel_size%2==0):\n",
    "        step = std/((std/2)-1)\n",
    "        kernel = np.arange(-std, step, step)\n",
    "        kernel = np.append(kernel, -kernel[::-1])\n",
    "    else:\n",
    "        step = std/int(std/2)\n",
    "        kernel = np.arange(-std, step, step)\n",
    "        kernel = np.append(kernel, -kernel[::-1][1:])\n",
    "\n",
    "    return kernel, normal_value(kernel, std/3)"
   ]
  },
  {
   "attachments": {},
   "cell_type": "markdown",
   "metadata": {},
   "source": [
    "Gaussian Demo"
   ]
  },
  {
   "cell_type": "code",
   "execution_count": 108,
   "metadata": {},
   "outputs": [
    {
     "name": "stdout",
     "output_type": "stream",
     "text": [
      "[-2.00000000e+01 -1.77777778e+01 -1.55555556e+01 -1.33333333e+01\n",
      " -1.11111111e+01 -8.88888889e+00 -6.66666667e+00 -4.44444444e+00\n",
      " -2.22222222e+00 -7.10542736e-15  7.10542736e-15  2.22222222e+00\n",
      "  4.44444444e+00  6.66666667e+00  8.88888889e+00  1.11111111e+01\n",
      "  1.33333333e+01  1.55555556e+01  1.77777778e+01  2.00000000e+01]\n"
     ]
    },
    {
     "data": {
      "image/png": "[encoded data removed]",
      "text/plain": [
       "<Figure size 432x288 with 1 Axes>"
      ]
     },
     "metadata": {
      "needs_background": "light"
     },
     "output_type": "display_data"
    }
   ],
   "source": [
    "x, y = generate_kernel_gaussian_separable(20)\n",
    "print(x)\n",
    "plt.plot(x, y)\n",
    "plt.show()"
   ]
  },
  {
   "cell_type": "code",
   "execution_count": 109,
   "metadata": {},
   "outputs": [],
   "source": [
    "def gaussian_blur(image_array, kernel_size=10, save=False):\n",
    "    '''\n",
    "    Implements gaussian blur.\n",
    "    '''\n",
    "\n",
    "    kernel = generate_kernel_gaussian_separable(kernel_size)[1]\n",
    "    \n",
    "    featuremap = corr2d_separable_multichannel(image_array, kernel)\n",
    "    featuremap = featuremap/np.sum(kernel**2)\n",
    "    print(f\"Featuremap of shape {featuremap.shape} generated!\")\n",
    "\n",
    "    return featuremap"
   ]
  },
  {
   "cell_type": "code",
   "execution_count": 110,
   "metadata": {},
   "outputs": [],
   "source": [
    "# Y = mean_blur(image_array=image_array, kernel_size=40)"
   ]
  },
  {
   "cell_type": "code",
   "execution_count": 111,
   "metadata": {},
   "outputs": [],
   "source": [
    "# show_image(Y, True, \"mean_blur\")"
   ]
  },
  {
   "cell_type": "code",
   "execution_count": 112,
   "metadata": {},
   "outputs": [],
   "source": [
    "# Y = gaussian_blur(image_array=image_array, kernel_size=40)"
   ]
  },
  {
   "cell_type": "code",
   "execution_count": 113,
   "metadata": {},
   "outputs": [],
   "source": [
    "# show_image(Y, True, \"gaussian_blur\")"
   ]
  },
  {
   "cell_type": "code",
   "execution_count": 114,
   "metadata": {},
   "outputs": [],
   "source": [
    "def calc_circular_dof_filter_components(a, b, A, B, x):\n",
    "    real_part = np.cos(b*(x**2))*np.exp(-a*(x**2))\n",
    "    complex_part = np.sin(b*(x**2))*np.exp(-a*(x**2))\n",
    "    \n",
    "    return real_part, complex_part"
   ]
  },
  {
   "cell_type": "code",
   "execution_count": 115,
   "metadata": {},
   "outputs": [],
   "source": [
    "def generate_circular_dof_filter(a, b, A, B, x):\n",
    "    \n",
    "    return None"
   ]
  },
  {
   "cell_type": "code",
   "execution_count": 116,
   "metadata": {},
   "outputs": [],
   "source": [
    "def generate_test_filter_dof(kernel_size, a=16, range_=4):\n",
    "    if (kernel_size==1):\n",
    "        return np.array([1])\n",
    "    elif (kernel_size==2):\n",
    "        return np.array([1,1])\n",
    "\n",
    "    limiter = range_/2\n",
    "    step = range_/(kernel_size-1)\n",
    "    kernel = np.arange(-limiter, limiter+step, step)\n",
    "    \n",
    "    return kernel, np.exp(-(kernel**a))"
   ]
  },
  {
   "cell_type": "code",
   "execution_count": 117,
   "metadata": {},
   "outputs": [],
   "source": [
    "res = generate_test_filter_dof(40)"
   ]
  },
  {
   "cell_type": "code",
   "execution_count": 118,
   "metadata": {},
   "outputs": [
    {
     "data": {
      "image/png": "[encoded data removed]",
      "text/plain": [
       "<Figure size 432x288 with 1 Axes>"
      ]
     },
     "metadata": {
      "needs_background": "light"
     },
     "output_type": "display_data"
    }
   ],
   "source": [
    "plt.figure()\n",
    "plt.plot(res[0], res[1])\n",
    "plt.show()"
   ]
  },
  {
   "cell_type": "code",
   "execution_count": 119,
   "metadata": {},
   "outputs": [],
   "source": [
    "# print(res[1])\n",
    "newVect = res[1].reshape(-1,1)\n",
    "matri_ver = np.matmul(newVect, newVect.T)\n",
    "matri_ver = matri_ver*255/np.max(matri_ver)\n",
    "show_image(matri_ver)"
   ]
  },
  {
   "cell_type": "code",
   "execution_count": 120,
   "metadata": {},
   "outputs": [],
   "source": [
    "def test_filter_dof(image_array, kernel_size=10, save=False):\n",
    "    '''\n",
    "    Implements square DOF by exponents.\n",
    "    '''\n",
    "\n",
    "    kernel = generate_test_filter_dof(kernel_size)[1]\n",
    "    \n",
    "    featuremap = corr2d_separable_multichannel(image_array, kernel)\n",
    "    featuremap = featuremap/np.sum(kernel**2)\n",
    "    print(f\"Featuremap of shape {featuremap.shape} generated!\")\n",
    "\n",
    "    return featuremap"
   ]
  },
  {
   "cell_type": "code",
   "execution_count": 121,
   "metadata": {},
   "outputs": [
    {
     "name": "stdout",
     "output_type": "stream",
     "text": [
      "Performing convolution on R Channel\n",
      "Performing convolution on G Channel\n",
      "Performing convolution on B Channel\n",
      "Convolutions complete!\n",
      "Featuremap of shape (2121, 3801, 3) generated!\n",
      "city_square_blur.png saved!\n"
     ]
    }
   ],
   "source": [
    "Y = test_filter_dof(image_array=image_array, kernel_size=200)\n",
    "show_image(Y, True, \"square_blur\")"
   ]
  }
 ],
 "metadata": {
  "kernelspec": {
   "display_name": "Python 3",
   "language": "python",
   "name": "python3"
  },
  "language_info": {
   "codemirror_mode": {
    "name": "ipython",
    "version": 3
   },
   "file_extension": ".py",
   "mimetype": "text/x-python",
   "name": "python",
   "nbconvert_exporter": "python",
   "pygments_lexer": "ipython3",
   "version": "3.10.1"
  },
  "orig_nbformat": 4
 },
 "nbformat": 4,
 "nbformat_minor": 2
}
